{
 "cells": [
  {
   "cell_type": "markdown",
   "metadata": {},
   "source": [
    "# Building Acyclic Diagrams for the paper using daft"
   ]
  },
  {
   "cell_type": "code",
   "execution_count": 1,
   "metadata": {},
   "outputs": [],
   "source": [
    "from matplotlib import rc\n",
    "import matplotlib.pyplot as plt\n",
    "import sys\n",
    "rc(\"font\", family=\"serif\", size=12)\n",
    "rc(\"text\", usetex=True)\n",
    "\n",
    "import daft"
   ]
  },
  {
   "cell_type": "markdown",
   "metadata": {},
   "source": [
    "## Gaia model\n",
    "\n",
    "\\begin{equation}\n",
    "p(\\theta_{\\rm RC}, \\varpi_{\\rm zp}, L, \\alpha | \\mathcal{D}) \n",
    "\\propto  p(\\theta_{\\rm RC}, \\varpi_{\\rm zp}, L)\\ p(\\hat{\\varpi} | r, \\varpi_{\\rm zp}, \\underline{\\Sigma})\\ \\times \n",
    "\\prod_{i=1}^{\\rm N} p(\\hat{m}_i | \\alpha_i, \\sigma_{\\hat{m}_i})\\ p(\\alpha_i | \\theta_{\\rm RC}, \\varpi_{\\rm zp}, L)\n",
    "\\end{equation}"
   ]
  },
  {
   "cell_type": "markdown",
   "metadata": {},
   "source": [
    "where $\\theta_{RC}$, $\\varpi_{\\rm zp}$ and $L$ are hyperparameters, $\\alpha$ is the set of latent parameters (which includes the latent parameter $r$). Anything with a hat on it is our data $\\mathcal{D}$. $\\underline{\\Sigma}$ is a covariance matrix. N is the number of data points."
   ]
  },
  {
   "cell_type": "code",
   "execution_count": 2,
   "metadata": {},
   "outputs": [
    {
     "data": {
      "text/plain": [
       "<daft.Edge at 0x7f3ad1522dd0>"
      ]
     },
     "execution_count": 2,
     "metadata": {},
     "output_type": "execute_result"
    }
   ],
   "source": [
    "#Instantiate the PGM\n",
    "pgm = daft.PGM(shape=[3.4, 3.8], \n",
    "               origin=[0.0, 0.0],\n",
    "               backset=.05,\n",
    "              label_params={'fontsize':12})\n",
    "\n",
    "#Hiearchical parameters\n",
    "pgm.add_node(daft.Node(\"mu\", r\"$\\mu_{RC}$\", .27, 1.35))\n",
    "pgm.add_node(daft.Node(\"sigma\", r\"$\\sigma_{RC}$\", .27, 2.))\n",
    "pgm.add_node(daft.Node(\"Q\", r\"$Q$\", .27, 2.65))\n",
    "pgm.add_node(daft.Node(\"sigo\", r\"$\\sigma_o$\",.27,3.3))\n",
    "\n",
    "pgm.add_node(daft.Node(\"L\", r\"$L$\",2.075, 3.3))\n",
    "pgm.add_node(daft.Node(\"oozp\", r\"$\\varpi_{zp}$\", 2.95, 2.4))\n",
    "\n",
    "#Add a plate\n",
    "pgm.add_plate(daft.Plate([.6, .2, 1.9, 2.7], label=r\"$i = 1, \\cdots, \\rm N$\",shift=-0.1))\n",
    "\n",
    "#Latent varable.\n",
    "pgm.add_node(daft.Node(\"Mi\", r\"$M_i$\", 1.15, 2.4))\n",
    "pgm.add_node(daft.Node(\"Ai\", r\"$A_i$\", 2.075, 1.6))\n",
    "pgm.add_node(daft.Node(\"ri\", r\"$r_i$\", 2.075, 2.4))\n",
    "\n",
    "#Data\n",
    "pgm.add_node(daft.Node(\"mi\", r\"$\\hat{m}_i$\", 1.15, 1.6, observed=True))\n",
    "pgm.add_node(daft.Node(\"sigmi\", r\"$\\sigma_{\\hat{m}_i}$\", 1.15, .9, fixed=True, offset=(0,-24.)))\n",
    "pgm.add_node(daft.Node(\"ooi\", r\"$\\hat{\\varpi}$\",   2.95, 1.6, observed=True))\n",
    "pgm.add_node(daft.Node(\"sigooi\",r\"$\\underline{\\Sigma}$\", 2.95, .9, fixed=True, offset=(0,-24.)))\n",
    "# pgm.add_node(daft.Node(\"rlebv\", r\"$R_{\\lambda}E_{B-V}$\", 2.075, .9, fixed=True, offset=(0,-22.)))\n",
    "pgm.add_node(daft.Node(\"rlebv\", r\"$\\hat{A}_i$\", 2.075, .9, fixed=True, offset=(0,-24.)))\n",
    "\n",
    "\n",
    "#Add in edges\n",
    "pgm.add_edge(\"mu\", \"Mi\")\n",
    "pgm.add_edge(\"sigma\", \"Mi\")\n",
    "pgm.add_edge(\"Q\", \"Mi\")\n",
    "pgm.add_edge(\"sigo\", \"Mi\")\n",
    "pgm.add_edge(\"oozp\", \"ooi\")\n",
    "pgm.add_edge(\"L\", \"ri\")\n",
    "pgm.add_edge(\"Ai\", \"mi\")\n",
    "pgm.add_edge(\"Mi\", \"mi\")\n",
    "pgm.add_edge(\"ri\", \"mi\")\n",
    "pgm.add_edge(\"ri\", \"ooi\")\n",
    "pgm.add_edge(\"rlebv\", \"Ai\")\n",
    "pgm.add_edge(\"sigmi\", \"mi\")\n",
    "pgm.add_edge(\"sigooi\", \"ooi\")"
   ]
  },
  {
   "cell_type": "code",
   "execution_count": 3,
   "metadata": {},
   "outputs": [
    {
     "name": "stderr",
     "output_type": "stream",
     "text": [
      "/home/oliver/.local/lib/python2.7/site-packages/matplotlib/font_manager.py:1331: UserWarning: findfont: Font family [u'serif'] not found. Falling back to DejaVu Sans\n",
      "  (prop.get_family(), self.defaultFamily[fontext]))\n"
     ]
    },
    {
     "data": {
      "image/png": "[encoded data removed]",
      "text/plain": [
       "<Figure size 192.756x215.433 with 1 Axes>"
      ]
     },
     "metadata": {},
     "output_type": "display_data"
    }
   ],
   "source": [
    "pgm.render()\n",
    "pgm.figure.savefig(\"Figures/gaiastan_alt.pdf\")\n",
    "pgm.figure.savefig(\"Figures/gaiastan_alt.png\", dpi=300)\n",
    "plt.show()"
   ]
  },
  {
   "cell_type": "markdown",
   "metadata": {},
   "source": [
    "# Astero Model\n",
    "\n",
    "\\begin{equation}\n",
    "p(\\theta_{\\rm RC} | \\mathcal{D}) \\propto  p(\\theta_{\\rm RC}) \\prod_{i=1}^{\\rm N} p(\\mathcal{D}_i | \\theta_{\\rm RC})p(M_i | \\theta_{\\rm RC})\n",
    "\\end{equation}\n",
    "where $\\theta_{RC}$ are hyperparameters, and $M_i$ is our latent parameters. Anything with a hat on it is our data $\\mathcal{D}$. N is the number of data points."
   ]
  },
  {
   "cell_type": "code",
   "execution_count": 4,
   "metadata": {},
   "outputs": [
    {
     "data": {
      "text/plain": [
       "<daft.Edge at 0x7f3ad15227d0>"
      ]
     },
     "execution_count": 4,
     "metadata": {},
     "output_type": "execute_result"
    }
   ],
   "source": [
    "#Instantiate the PGM\n",
    "pgm = daft.PGM(shape=[3.,3.], \n",
    "               origin=[0.0, 0.0],\n",
    "               backset=0.05,\n",
    "              label_params={'fontsize':13})\n",
    "\n",
    "#Hiearchical parameters\n",
    "pgm.add_node(daft.Node(\"mu\", r\"$\\mu_{RC}$\", .5, .6))\n",
    "pgm.add_node(daft.Node(\"sigma\", r\"$\\sigma_{RC}$\", .5, 1.2))\n",
    "pgm.add_node(daft.Node(\"Q\", r\"$Q$\", .5, 1.8))\n",
    "pgm.add_node(daft.Node(\"sigo\", r\"$\\sigma_o$\", .5, 2.4))\n",
    "\n",
    "#Add a plate\n",
    "pgm.add_plate(daft.Plate([1., .9, 1.9, 1.6], label=r\"$i = 1, \\cdots, \\rm N$\",shift=-0.1, position='bottom right'))\n",
    "\n",
    "#Latent varable.\n",
    "pgm.add_node(daft.Node(\"Mi\", r\"$M_i$\", 1.5, 1.5))\n",
    "\n",
    "#Data\n",
    "pgm.add_node(daft.Node(\"Mhati\", r\"$\\hat{M}_i$\", 2.5, 1.5, observed=True))\n",
    "pgm.add_node(daft.Node(\"sigMhati\", r\"$\\sigma_{\\hat{M}_i}$\", 2.5, 2., fixed=True, offset=(0,2.)))\n",
    "\n",
    "# #Add in edges\n",
    "pgm.add_edge(\"mu\", \"Mi\")\n",
    "pgm.add_edge(\"sigma\", \"Mi\")\n",
    "pgm.add_edge(\"Q\", \"Mi\")\n",
    "pgm.add_edge(\"sigo\", \"Mi\")\n",
    "pgm.add_edge(\"Mi\", \"Mhati\")\n",
    "pgm.add_edge(\"sigMhati\", \"Mhati\")"
   ]
  },
  {
   "cell_type": "code",
   "execution_count": 5,
   "metadata": {},
   "outputs": [
    {
     "name": "stderr",
     "output_type": "stream",
     "text": [
      "/home/oliver/.local/lib/python2.7/site-packages/matplotlib/figure.py:2299: UserWarning: This figure includes Axes that are not compatible with tight_layout, so results might be incorrect.\n",
      "  warnings.warn(\"This figure includes Axes that are not compatible \"\n"
     ]
    },
    {
     "data": {
      "image/png": "[encoded data removed]",
      "text/plain": [
       "<Figure size 170.079x170.079 with 1 Axes>"
      ]
     },
     "metadata": {},
     "output_type": "display_data"
    }
   ],
   "source": [
    "pgm.render()\n",
    "plt.tight_layout()\n",
    "pgm.figure.savefig(\"Figures/asterostan.pdf\")\n",
    "pgm.figure.savefig(\"Figures/asterostan.png\", dpi=150)\n",
    "plt.show()"
   ]
  },
  {
   "cell_type": "markdown",
   "metadata": {},
   "source": [
    "# Old Gaia model"
   ]
  },
  {
   "cell_type": "code",
   "execution_count": 6,
   "metadata": {},
   "outputs": [
    {
     "data": {
      "text/plain": [
       "<daft.Edge at 0x7f3accc45290>"
      ]
     },
     "execution_count": 6,
     "metadata": {},
     "output_type": "execute_result"
    }
   ],
   "source": [
    "#Instantiate the PGM\n",
    "pgm = daft.PGM(shape=[3.4, 3.8], \n",
    "               origin=[0.0, 0.0],\n",
    "               backset=.05,\n",
    "              label_params={'fontsize':12})\n",
    "\n",
    "#Hiearchical parameters\n",
    "pgm.add_node(daft.Node(\"mu\", r\"$\\mu_{RC}$\", .95, 3.3))\n",
    "pgm.add_node(daft.Node(\"sigma\", r\"$\\sigma_{RC}$\", 1.6, 3.3))\n",
    "pgm.add_node(daft.Node(\"Q\", r\"$Q$\", 2.25, 3.3))\n",
    "pgm.add_node(daft.Node(\"sigo\", r\"$\\sigma_o$\",2.9,3.3))\n",
    "\n",
    "pgm.add_node(daft.Node(\"L\", r\"$L$\",.27, .8))\n",
    "pgm.add_node(daft.Node(\"oozp\", r\"$\\varpi_{zp}$\", .27, 1.7))\n",
    "\n",
    "#Add a plate\n",
    "pgm.add_plate(daft.Plate([.6, .2, 2.7, 2.7], label=r\"$i = 1, \\cdots, \\rm N$\",shift=-0.1))\n",
    "\n",
    "#Latent varable.\n",
    "pgm.add_node(daft.Node(\"Mi\", r\"$M_i$\", 2.1, 2.5))\n",
    "pgm.add_node(daft.Node(\"Ai\", r\"$A_i$\", 2.10, .8))\n",
    "pgm.add_node(daft.Node(\"ri\", r\"$r_i$\", 1.15, .8))\n",
    "\n",
    "#Data\n",
    "pgm.add_node(daft.Node(\"mi\", r\"$\\hat{m}_i$\", 2.1, 1.7, observed=True))\n",
    "pgm.add_node(daft.Node(\"sigmi\", r\"$\\sigma_{\\hat{m}_i}$\", 2.85, 1.7, fixed=True, offset=(0,5.)))\n",
    "pgm.add_node(daft.Node(\"ooi\", r\"$\\hat{\\varpi}_i$\",  1.15, 1.7, observed=True))\n",
    "# pgm.add_node(daft.Node(\"sigooi\",r\"$\\sigma_{\\hat{\\varpi}_i}$\", 1.15, 2.2, fixed=True, offset=(0,5.)))\n",
    "pgm.add_node(daft.Node(\"sigooi\",r\"$\\underline{\\Sigma}$\", 1.15, 2.2, fixed=True, offset=(0,5.)))\n",
    "pgm.add_node(daft.Node(\"rlebv\", r\"$R_{\\lambda}E_{B-V}$\", 2.85, .8, fixed=True, offset=(0,5.)))\n",
    "\n",
    "# #Add in edges\n",
    "pgm.add_edge(\"mu\", \"Mi\")\n",
    "pgm.add_edge(\"sigma\", \"Mi\")\n",
    "pgm.add_edge(\"Q\", \"Mi\")\n",
    "pgm.add_edge(\"sigo\", \"Mi\")\n",
    "pgm.add_edge(\"oozp\", \"ooi\")\n",
    "pgm.add_edge(\"L\", \"ri\")\n",
    "pgm.add_edge(\"Ai\", \"mi\")\n",
    "pgm.add_edge(\"Mi\", \"mi\")\n",
    "pgm.add_edge(\"ri\", \"mi\")\n",
    "pgm.add_edge(\"ri\", \"ooi\")\n",
    "pgm.add_edge(\"rlebv\", \"Ai\")\n",
    "pgm.add_edge(\"sigmi\", \"mi\")\n",
    "pgm.add_edge(\"sigooi\", \"ooi\")"
   ]
  },
  {
   "cell_type": "code",
   "execution_count": 7,
   "metadata": {
    "scrolled": false
   },
   "outputs": [
    {
     "data": {
      "image/png": "[encoded data removed]",
      "text/plain": [
       "<Figure size 192.756x215.433 with 1 Axes>"
      ]
     },
     "metadata": {},
     "output_type": "display_data"
    }
   ],
   "source": [
    "pgm.render()\n",
    "pgm.figure.savefig(\"Figures/gaiastan.pdf\")\n",
    "pgm.figure.savefig(\"Figures/gaiastan.png\", dpi=150)\n",
    "plt.show()"
   ]
  }
 ],
 "metadata": {
  "kernelspec": {
   "display_name": "Python 2",
   "language": "python",
   "name": "python2"
  },
  "language_info": {
   "codemirror_mode": {
    "name": "ipython",
    "version": 2
   },
   "file_extension": ".py",
   "mimetype": "text/x-python",
   "name": "python",
   "nbconvert_exporter": "python",
   "pygments_lexer": "ipython2",
   "version": "2.7.15rc1"
  }
 },
 "nbformat": 4,
 "nbformat_minor": 2
}
